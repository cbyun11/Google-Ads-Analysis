{
 "cells": [
  {
   "cell_type": "code",
   "execution_count": 145,
   "id": "4fd22a17-c208-468a-8e24-726272b5a1b2",
   "metadata": {},
   "outputs": [],
   "source": [
    "import pandas as pd\n",
    "import numpy as np\n",
    "from scipy.stats import shapiro, ttest_ind, wilcoxon, mannwhitneyu, chi2_contingency, norm, pearsonr\n",
    "import matplotlib.pyplot as plt\n",
    "import seaborn as sns\n",
    "import statsmodels.api as sm\n",
    "import warnings\n",
    "warnings.filterwarnings('ignore')"
   ]
  },
  {
   "cell_type": "code",
   "execution_count": 99,
   "id": "792dadca-7c73-4612-b039-a4e371dbdda7",
   "metadata": {},
   "outputs": [],
   "source": [
    "def fill_missing_date(start_date, end_date):\n",
    "    df = pd.read_csv('data/daily_performance.csv')\n",
    "    print(f'Number of rows BEFORE: {len(df)}')\n",
    "    df['date'] = pd.to_datetime(df['date'])\n",
    "    df = df.set_index('date')\n",
    "    all_dates = pd.date_range(pd.to_datetime(start_date), pd.to_datetime(end_date), freq='D')\n",
    "    df = df.reindex(all_dates, fill_value=0)\n",
    "    df.index.name = 'date'\n",
    "    df = df.reset_index()\n",
    "    df['no_click'] = df['impression'] - df['click']\n",
    "    print(f'Number of rows AFTER: {len(df)}')\n",
    "\n",
    "    return df"
   ]
  },
  {
   "cell_type": "code",
   "execution_count": 101,
   "id": "b5915f05-2364-4f8b-901f-57154064bf5e",
   "metadata": {},
   "outputs": [],
   "source": [
    "def split_data(df, current_start, current_end, prev_start, prev_end):\n",
    "    current_df = df[(df['date'] >= pd.to_datetime(current_start)) & (df['date'] <= pd.to_datetime(current_end))]\n",
    "    previous_df = df[(df['date'] >= pd.to_datetime(prev_start)) & (df['date'] <= pd.to_datetime(prev_end))]\n",
    "\n",
    "    return current_df, previous_df"
   ]
  },
  {
   "cell_type": "code",
   "execution_count": 103,
   "id": "d2074987-bd86-48c6-b8ad-d9fc3b5024c0",
   "metadata": {},
   "outputs": [],
   "source": [
    "def sig_test(current_df, previous_df, metric):\n",
    "    shapiro_current = 1\n",
    "    shapiro_prev = 1\n",
    "    \n",
    "    if len(current_df) < 30 or len(previous_df) < 30:\n",
    "        shapiro_current = shapiro(current_df[metric])[1]\n",
    "        shapiro_prev = shapiro(previous_df[metric])[1]\n",
    "    \n",
    "        print(f'Shapiro test p-value for current period: {shapiro_current}')\n",
    "        print(f'Shapiro test p-value for previous period: {shapiro_prev}\\n')\n",
    "\n",
    "    if shapiro_current <= 0.05 or shapiro_prev <= 0.05:\n",
    "        if len(current_df) != len(previous_df):\n",
    "            p = mannwhitneyu(current_df[metric], previous_df[metric])[1]\n",
    "            test_used = 'Mann-Whitney U test'\n",
    "        else:\n",
    "            p = wilcoxon(current_df[metric], previous_df[metric])[1]\n",
    "            test_used = 'Wilcoxon test'\n",
    "    else:\n",
    "        p = ttest_ind(current_df[metric], previous_df[metric])[1]\n",
    "        test_used = 't-test'\n",
    "        \n",
    "\n",
    "    print(f'The p-value of {test_used} is {p}\\n')\n",
    "    print(f'Average {metric} in current period: {current_df[metric].mean()}')\n",
    "    print(f'Average {metric} in previous period: {previous_df[metric].mean()}\\n')\n",
    "    if p <= 0.05:\n",
    "        print(f'The {metric} in current period is significantly different from the previous period.')\n",
    "    else:\n",
    "        print(f'We CANNOT conclude that the {metric} in current period is significantly different from the previous period.')"
   ]
  },
  {
   "cell_type": "code",
   "execution_count": 105,
   "id": "38a61189-4705-4fda-adb7-83957be08295",
   "metadata": {},
   "outputs": [],
   "source": [
    "def prop_test(current_df, previous_df, metric):\n",
    "    current_impression, previous_impression = current_df['impression'].sum(), previous_df['impression'].sum()\n",
    "    current_click, previous_click = current_df['click'].sum(), previous_df['click'].sum()\n",
    "    current_conversion, previous_conversion = current_df['conversion'].sum(), previous_df['conversion'].sum()\n",
    "    \n",
    "    if metric == 'click':\n",
    "        current_rate = current_click / current_impression\n",
    "        previous_rate = previous_click / previous_impression\n",
    "        count = [current_click, previous_click]\n",
    "        nobs = [current_impression, previous_impression]\n",
    "        rate = 'CTR'\n",
    "    elif metric == 'conversion':\n",
    "        current_rate = current_conversion / current_click\n",
    "        previous_rate = previous_conversion / previous_click\n",
    "        count = [current_conversion, previous_conversion]\n",
    "        nobs = [current_click, previous_click]\n",
    "        rate = 'Conversion Rate'\n",
    "        \n",
    "    z_stat, p_value = sm.stats.proportions_ztest(count, nobs)\n",
    "    \n",
    "    print(f'Current {rate}: {current_rate:.4f}')\n",
    "    print(f'Previous {rate}: {previous_rate:.4f}\\n')\n",
    "    print(f'p-value: {p_value}')\n",
    "    if p_value <= 0.05:\n",
    "        print(f'The {rate} in current period is significantly different from the previous period')\n",
    "    else:\n",
    "        print(f'We CANNOT conlcude that the {rate} is significantly different')"
   ]
  },
  {
   "cell_type": "code",
   "execution_count": 107,
   "id": "d24961a1-8ffa-4acc-ae93-684c2170ba82",
   "metadata": {},
   "outputs": [
    {
     "name": "stdout",
     "output_type": "stream",
     "text": [
      "Number of rows BEFORE: 175\n",
      "Number of rows AFTER: 232\n"
     ]
    }
   ],
   "source": [
    "start_date = '2024-01-01'\n",
    "end_date = '2024-08-19'\n",
    "\n",
    "df = fill_missing_date(start_date, end_date)"
   ]
  },
  {
   "cell_type": "code",
   "execution_count": 133,
   "id": "440830ad-86a2-4ec4-bc58-931779538a03",
   "metadata": {},
   "outputs": [],
   "source": [
    "current_start = '2024-07-26'\n",
    "current_end = '2024-08-19'\n",
    "previous_start = '2024-06-01'\n",
    "previous_end = '2024-07-25'\n",
    "\n",
    "df_current, df_previous = split_data(df, current_start, current_end, previous_start, previous_end)"
   ]
  },
  {
   "cell_type": "code",
   "execution_count": 135,
   "id": "4babf70d-1d19-4993-949c-699ab6ac6950",
   "metadata": {},
   "outputs": [
    {
     "name": "stdout",
     "output_type": "stream",
     "text": [
      "Shapiro test p-value for current period: 0.0005109914927743375\n",
      "Shapiro test p-value for previous period: 4.7330315283034e-05\n",
      "\n",
      "The p-value of Mann-Whitney U test is 0.1134122048369055\n",
      "\n",
      "Average impression in current period: 229.8\n",
      "Average impression in previous period: 343.25454545454545\n",
      "\n",
      "We CANNOT conclude that the impression in current period is significantly different from the previous period.\n"
     ]
    }
   ],
   "source": [
    "sig_test(df_current, df_previous, 'impression')"
   ]
  },
  {
   "cell_type": "code",
   "execution_count": 137,
   "id": "7b0d7991-87e5-43f6-817c-d4d2769ec0c3",
   "metadata": {},
   "outputs": [
    {
     "name": "stdout",
     "output_type": "stream",
     "text": [
      "Shapiro test p-value for current period: 0.0006692656315863132\n",
      "Shapiro test p-value for previous period: 1.1597347111091949e-05\n",
      "\n",
      "The p-value of Mann-Whitney U test is 0.051559309560519656\n",
      "\n",
      "Average click in current period: 34.08\n",
      "Average click in previous period: 54.85454545454545\n",
      "\n",
      "We CANNOT conclude that the click in current period is significantly different from the previous period.\n"
     ]
    }
   ],
   "source": [
    "sig_test(df_current, df_previous, 'click')"
   ]
  },
  {
   "cell_type": "code",
   "execution_count": 139,
   "id": "4dcc92a6-58bd-495a-bcde-a776f913478b",
   "metadata": {},
   "outputs": [
    {
     "name": "stdout",
     "output_type": "stream",
     "text": [
      "Shapiro test p-value for current period: 6.702615064568818e-05\n",
      "Shapiro test p-value for previous period: 7.339947741399552e-14\n",
      "\n",
      "The p-value of Mann-Whitney U test is 2.03814107915213e-05\n",
      "\n",
      "Average conversion in current period: 2.44\n",
      "Average conversion in previous period: 0.32727272727272727\n",
      "\n",
      "The conversion in current period is significantly different from the previous period.\n"
     ]
    }
   ],
   "source": [
    "sig_test(df_current, df_previous, 'conversion')"
   ]
  },
  {
   "cell_type": "code",
   "execution_count": 141,
   "id": "2ef8d3c7-46cd-4270-a516-c96150e88b18",
   "metadata": {},
   "outputs": [
    {
     "name": "stdout",
     "output_type": "stream",
     "text": [
      "Current CTR: 0.1483\n",
      "Previous CTR: 0.1598\n",
      "\n",
      "p-value: 0.03590148025838621\n",
      "The CTR in current period is significantly different from the previous period\n"
     ]
    }
   ],
   "source": [
    "prop_test(df_current, df_previous, 'click')"
   ]
  },
  {
   "cell_type": "code",
   "execution_count": 143,
   "id": "9a97af1f-ec6b-4d3b-a9c9-f7fa5c5aae02",
   "metadata": {},
   "outputs": [
    {
     "name": "stdout",
     "output_type": "stream",
     "text": [
      "Current Conversion Rate: 0.0716\n",
      "Previous Conversion Rate: 0.0060\n",
      "\n",
      "p-value: 5.6704680997616444e-33\n",
      "The Conversion Rate in current period is significantly different from the previous period\n"
     ]
    }
   ],
   "source": [
    "prop_test(df_current, df_previous, 'conversion')"
   ]
  }
 ],
 "metadata": {
  "kernelspec": {
   "display_name": "Python 3 (ipykernel)",
   "language": "python",
   "name": "python3"
  },
  "language_info": {
   "codemirror_mode": {
    "name": "ipython",
    "version": 3
   },
   "file_extension": ".py",
   "mimetype": "text/x-python",
   "name": "python",
   "nbconvert_exporter": "python",
   "pygments_lexer": "ipython3",
   "version": "3.11.4"
  }
 },
 "nbformat": 4,
 "nbformat_minor": 5
}
